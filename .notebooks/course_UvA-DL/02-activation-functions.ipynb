version https://git-lfs.github.com/spec/v1
oid sha256:032cd5cfa1ff47bc67e27776df568a82033707ea35e8c69a5f96836368c31f4a
size 3237364
