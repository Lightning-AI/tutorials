version https://git-lfs.github.com/spec/v1
oid sha256:3af91a46969eea916c345c98b9825fd1d6331ced8f6d19853aa0eabab8e48da7
size 343383
