version https://git-lfs.github.com/spec/v1
oid sha256:8f6faa8f00f378889a7c60c4ec59f115f71762ecef7b5b89f6d016d7c27e3522
size 599642
