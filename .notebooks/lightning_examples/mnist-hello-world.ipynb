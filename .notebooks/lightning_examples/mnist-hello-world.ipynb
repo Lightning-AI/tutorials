version https://git-lfs.github.com/spec/v1
oid sha256:76a2e5ef107c7d786d863615a422cd3a28f7aefe9b191486164ec09747e7b362
size 174154
