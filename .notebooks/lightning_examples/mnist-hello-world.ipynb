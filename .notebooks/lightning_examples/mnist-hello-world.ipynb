version https://git-lfs.github.com/spec/v1
oid sha256:b180c9f4bd9aaaf9c06e13d02a020e7793dc067d1532bf3228d8e5bccf266031
size 171475
