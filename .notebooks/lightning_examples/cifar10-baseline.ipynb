version https://git-lfs.github.com/spec/v1
oid sha256:c3c1235ed81d9664b833f2e4b01884e2ce9f570985fda2976a53ff1206427a32
size 350320
