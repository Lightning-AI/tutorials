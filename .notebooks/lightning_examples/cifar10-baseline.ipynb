version https://git-lfs.github.com/spec/v1
oid sha256:5a8b7270c7408ab7ae9c23da7052bb2e0a389f431ed629db4b32bebfa84720e2
size 344860
