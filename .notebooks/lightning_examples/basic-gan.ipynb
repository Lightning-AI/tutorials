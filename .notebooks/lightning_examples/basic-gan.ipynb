version https://git-lfs.github.com/spec/v1
oid sha256:c66909810a2a6b7b103693e34ddfa1ec312e9ab443e3846b09c11b4c59cf9689
size 115017
