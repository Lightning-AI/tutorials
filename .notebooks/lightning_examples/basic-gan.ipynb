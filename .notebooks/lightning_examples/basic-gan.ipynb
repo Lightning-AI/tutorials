version https://git-lfs.github.com/spec/v1
oid sha256:2d49030a5acfca77a745c02ca4d7d373049118220b586e27854fe9de8a3aaf49
size 117611
