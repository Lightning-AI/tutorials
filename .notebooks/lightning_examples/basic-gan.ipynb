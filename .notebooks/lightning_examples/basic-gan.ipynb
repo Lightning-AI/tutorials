version https://git-lfs.github.com/spec/v1
oid sha256:459fd72862f3a3d241460aff8203f604dc7f68468cad47f8d7e38d085c0f0fd3
size 115566
