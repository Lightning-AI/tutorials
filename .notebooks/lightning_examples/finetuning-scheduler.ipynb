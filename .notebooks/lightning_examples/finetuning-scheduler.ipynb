version https://git-lfs.github.com/spec/v1
oid sha256:5f3404226499d416b803802db77a6acdb3a0c8a988e9f9af4ef7a3830d20f822
size 798985
